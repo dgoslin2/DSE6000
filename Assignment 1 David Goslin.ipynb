{
 "cells": [
  {
   "cell_type": "markdown",
   "metadata": {},
   "source": [
    "Import Packages:"
   ]
  },
  {
   "cell_type": "markdown",
   "metadata": {},
   "source": [
    "I first start by loading all the packages that will be required."
   ]
  },
  {
   "cell_type": "code",
   "execution_count": 5,
   "metadata": {},
   "outputs": [],
   "source": [
    "import pandas as pd\n",
    "import matplotlib.pyplot as plt\n",
    "%matplotlib inline\n",
    "import numpy as np\n",
    "import seaborn as sns"
   ]
  },
  {
   "cell_type": "markdown",
   "metadata": {},
   "source": [
    "Importing Dataset:"
   ]
  },
  {
   "cell_type": "markdown",
   "metadata": {},
   "source": [
    "Then the csv file is loaded in the \"deaths\" object."
   ]
  },
  {
   "cell_type": "code",
   "execution_count": 6,
   "metadata": {},
   "outputs": [],
   "source": [
    "deaths = pd.read_csv(\"C:/Users/gosli/Documents/DSE 6000/Deaths_from_Pneumonia_and_Influenza__P_I__and_all_deaths__by_state_and_region__National_Center_For_Health_Statistics_Mortality_Surveillance_System.csv\")"
   ]
  },
  {
   "cell_type": "markdown",
   "metadata": {},
   "source": [
    "Visualizing Dataset:"
   ]
  },
  {
   "cell_type": "markdown",
   "metadata": {},
   "source": [
    "I start by displaying the first 5 rows of the dataset to get a little understanding about it. The first thing I noticed was that there were some \"NaN\" values within this dataset. I can also see that this data set in document deaths from influenza and pneumonia within certain regions and time periods."
   ]
  },
  {
   "cell_type": "code",
   "execution_count": 7,
   "metadata": {},
   "outputs": [
    {
     "data": {
      "text/html": [
       "<div>\n",
       "<style scoped>\n",
       "    .dataframe tbody tr th:only-of-type {\n",
       "        vertical-align: middle;\n",
       "    }\n",
       "\n",
       "    .dataframe tbody tr th {\n",
       "        vertical-align: top;\n",
       "    }\n",
       "\n",
       "    .dataframe thead th {\n",
       "        text-align: right;\n",
       "    }\n",
       "</style>\n",
       "<table border=\"1\" class=\"dataframe\">\n",
       "  <thead>\n",
       "    <tr style=\"text-align: right;\">\n",
       "      <th></th>\n",
       "      <th>geoid</th>\n",
       "      <th>Region</th>\n",
       "      <th>State</th>\n",
       "      <th>age</th>\n",
       "      <th>season</th>\n",
       "      <th>MMWR Year/Week</th>\n",
       "      <th>Deaths from influenza</th>\n",
       "      <th>Deaths from pneumonia</th>\n",
       "      <th>Deaths from pneumonia and influenza</th>\n",
       "      <th>All Deaths</th>\n",
       "      <th>Pecent of deaths due to pneumonia or influenza</th>\n",
       "      <th>pecent complete</th>\n",
       "    </tr>\n",
       "  </thead>\n",
       "  <tbody>\n",
       "    <tr>\n",
       "      <th>0</th>\n",
       "      <td>National</td>\n",
       "      <td>NaN</td>\n",
       "      <td>NaN</td>\n",
       "      <td>All</td>\n",
       "      <td>2009-10</td>\n",
       "      <td>200940</td>\n",
       "      <td>149.0</td>\n",
       "      <td>3484.0</td>\n",
       "      <td>3633.0</td>\n",
       "      <td>46412.0</td>\n",
       "      <td>7.827717</td>\n",
       "      <td>97.546212</td>\n",
       "    </tr>\n",
       "    <tr>\n",
       "      <th>1</th>\n",
       "      <td>National</td>\n",
       "      <td>NaN</td>\n",
       "      <td>NaN</td>\n",
       "      <td>All</td>\n",
       "      <td>2009-10</td>\n",
       "      <td>200941</td>\n",
       "      <td>174.0</td>\n",
       "      <td>3703.0</td>\n",
       "      <td>3877.0</td>\n",
       "      <td>46453.0</td>\n",
       "      <td>8.346070</td>\n",
       "      <td>97.632384</td>\n",
       "    </tr>\n",
       "    <tr>\n",
       "      <th>2</th>\n",
       "      <td>National</td>\n",
       "      <td>NaN</td>\n",
       "      <td>NaN</td>\n",
       "      <td>All</td>\n",
       "      <td>2009-10</td>\n",
       "      <td>200942</td>\n",
       "      <td>239.0</td>\n",
       "      <td>3841.0</td>\n",
       "      <td>4080.0</td>\n",
       "      <td>47451.0</td>\n",
       "      <td>8.598344</td>\n",
       "      <td>99.729926</td>\n",
       "    </tr>\n",
       "    <tr>\n",
       "      <th>3</th>\n",
       "      <td>National</td>\n",
       "      <td>NaN</td>\n",
       "      <td>NaN</td>\n",
       "      <td>All</td>\n",
       "      <td>2009-10</td>\n",
       "      <td>200943</td>\n",
       "      <td>295.0</td>\n",
       "      <td>3762.0</td>\n",
       "      <td>4057.0</td>\n",
       "      <td>46432.0</td>\n",
       "      <td>8.737509</td>\n",
       "      <td>97.588247</td>\n",
       "    </tr>\n",
       "    <tr>\n",
       "      <th>4</th>\n",
       "      <td>National</td>\n",
       "      <td>NaN</td>\n",
       "      <td>NaN</td>\n",
       "      <td>All</td>\n",
       "      <td>2009-10</td>\n",
       "      <td>200944</td>\n",
       "      <td>298.0</td>\n",
       "      <td>3858.0</td>\n",
       "      <td>4156.0</td>\n",
       "      <td>47372.0</td>\n",
       "      <td>8.773115</td>\n",
       "      <td>99.563888</td>\n",
       "    </tr>\n",
       "  </tbody>\n",
       "</table>\n",
       "</div>"
      ],
      "text/plain": [
       "      geoid  Region State  age   season  MMWR Year/Week  \\\n",
       "0  National     NaN   NaN  All  2009-10          200940   \n",
       "1  National     NaN   NaN  All  2009-10          200941   \n",
       "2  National     NaN   NaN  All  2009-10          200942   \n",
       "3  National     NaN   NaN  All  2009-10          200943   \n",
       "4  National     NaN   NaN  All  2009-10          200944   \n",
       "\n",
       "   Deaths from influenza  Deaths from pneumonia  \\\n",
       "0                  149.0                 3484.0   \n",
       "1                  174.0                 3703.0   \n",
       "2                  239.0                 3841.0   \n",
       "3                  295.0                 3762.0   \n",
       "4                  298.0                 3858.0   \n",
       "\n",
       "   Deaths from pneumonia and influenza  All Deaths  \\\n",
       "0                               3633.0     46412.0   \n",
       "1                               3877.0     46453.0   \n",
       "2                               4080.0     47451.0   \n",
       "3                               4057.0     46432.0   \n",
       "4                               4156.0     47372.0   \n",
       "\n",
       "   Pecent of deaths due to pneumonia or influenza  pecent complete  \n",
       "0                                        7.827717        97.546212  \n",
       "1                                        8.346070        97.632384  \n",
       "2                                        8.598344        99.729926  \n",
       "3                                        8.737509        97.588247  \n",
       "4                                        8.773115        99.563888  "
      ]
     },
     "execution_count": 7,
     "metadata": {},
     "output_type": "execute_result"
    }
   ],
   "source": [
    "deaths.head(5)"
   ]
  },
  {
   "cell_type": "markdown",
   "metadata": {},
   "source": [
    "To gather some more information about the dataset, I use the describe function. I can see by the differences in counts that most of the columns will contain \"NaN\"."
   ]
  },
  {
   "cell_type": "code",
   "execution_count": 9,
   "metadata": {},
   "outputs": [
    {
     "data": {
      "text/html": [
       "<div>\n",
       "<style scoped>\n",
       "    .dataframe tbody tr th:only-of-type {\n",
       "        vertical-align: middle;\n",
       "    }\n",
       "\n",
       "    .dataframe tbody tr th {\n",
       "        vertical-align: top;\n",
       "    }\n",
       "\n",
       "    .dataframe thead th {\n",
       "        text-align: right;\n",
       "    }\n",
       "</style>\n",
       "<table border=\"1\" class=\"dataframe\">\n",
       "  <thead>\n",
       "    <tr style=\"text-align: right;\">\n",
       "      <th></th>\n",
       "      <th>Region</th>\n",
       "      <th>MMWR Year/Week</th>\n",
       "      <th>Deaths from influenza</th>\n",
       "      <th>Deaths from pneumonia</th>\n",
       "      <th>Deaths from pneumonia and influenza</th>\n",
       "      <th>All Deaths</th>\n",
       "      <th>Pecent of deaths due to pneumonia or influenza</th>\n",
       "      <th>pecent complete</th>\n",
       "    </tr>\n",
       "  </thead>\n",
       "  <tbody>\n",
       "    <tr>\n",
       "      <th>count</th>\n",
       "      <td>4841.000000</td>\n",
       "      <td>31946.000000</td>\n",
       "      <td>6777.000000</td>\n",
       "      <td>6777.000000</td>\n",
       "      <td>31902.000000</td>\n",
       "      <td>31902.000000</td>\n",
       "      <td>31902.000000</td>\n",
       "      <td>31946.000000</td>\n",
       "    </tr>\n",
       "    <tr>\n",
       "      <th>mean</th>\n",
       "      <td>5.499277</td>\n",
       "      <td>201415.619076</td>\n",
       "      <td>21.914121</td>\n",
       "      <td>762.404161</td>\n",
       "      <td>222.145853</td>\n",
       "      <td>3062.913297</td>\n",
       "      <td>7.190271</td>\n",
       "      <td>106.322803</td>\n",
       "    </tr>\n",
       "    <tr>\n",
       "      <th>std</th>\n",
       "      <td>2.872722</td>\n",
       "      <td>267.765935</td>\n",
       "      <td>84.199791</td>\n",
       "      <td>1066.816932</td>\n",
       "      <td>592.093395</td>\n",
       "      <td>7726.290426</td>\n",
       "      <td>2.111171</td>\n",
       "      <td>11.025562</td>\n",
       "    </tr>\n",
       "    <tr>\n",
       "      <th>min</th>\n",
       "      <td>1.000000</td>\n",
       "      <td>200940.000000</td>\n",
       "      <td>0.000000</td>\n",
       "      <td>2.000000</td>\n",
       "      <td>0.000000</td>\n",
       "      <td>31.000000</td>\n",
       "      <td>0.000000</td>\n",
       "      <td>0.902239</td>\n",
       "    </tr>\n",
       "    <tr>\n",
       "      <th>25%</th>\n",
       "      <td>3.000000</td>\n",
       "      <td>201205.000000</td>\n",
       "      <td>0.000000</td>\n",
       "      <td>158.000000</td>\n",
       "      <td>27.000000</td>\n",
       "      <td>397.000000</td>\n",
       "      <td>5.849806</td>\n",
       "      <td>99.311707</td>\n",
       "    </tr>\n",
       "    <tr>\n",
       "      <th>50%</th>\n",
       "      <td>5.000000</td>\n",
       "      <td>201421.500000</td>\n",
       "      <td>2.000000</td>\n",
       "      <td>380.000000</td>\n",
       "      <td>66.000000</td>\n",
       "      <td>943.000000</td>\n",
       "      <td>7.000000</td>\n",
       "      <td>105.342583</td>\n",
       "    </tr>\n",
       "    <tr>\n",
       "      <th>75%</th>\n",
       "      <td>8.000000</td>\n",
       "      <td>201637.750000</td>\n",
       "      <td>11.000000</td>\n",
       "      <td>656.000000</td>\n",
       "      <td>147.000000</td>\n",
       "      <td>2054.000000</td>\n",
       "      <td>8.368201</td>\n",
       "      <td>112.373050</td>\n",
       "    </tr>\n",
       "    <tr>\n",
       "      <th>max</th>\n",
       "      <td>10.000000</td>\n",
       "      <td>201902.000000</td>\n",
       "      <td>1625.000000</td>\n",
       "      <td>6065.000000</td>\n",
       "      <td>7120.000000</td>\n",
       "      <td>67465.000000</td>\n",
       "      <td>21.505376</td>\n",
       "      <td>169.253236</td>\n",
       "    </tr>\n",
       "  </tbody>\n",
       "</table>\n",
       "</div>"
      ],
      "text/plain": [
       "            Region  MMWR Year/Week  Deaths from influenza  \\\n",
       "count  4841.000000    31946.000000            6777.000000   \n",
       "mean      5.499277   201415.619076              21.914121   \n",
       "std       2.872722      267.765935              84.199791   \n",
       "min       1.000000   200940.000000               0.000000   \n",
       "25%       3.000000   201205.000000               0.000000   \n",
       "50%       5.000000   201421.500000               2.000000   \n",
       "75%       8.000000   201637.750000              11.000000   \n",
       "max      10.000000   201902.000000            1625.000000   \n",
       "\n",
       "       Deaths from pneumonia  Deaths from pneumonia and influenza  \\\n",
       "count            6777.000000                         31902.000000   \n",
       "mean              762.404161                           222.145853   \n",
       "std              1066.816932                           592.093395   \n",
       "min                 2.000000                             0.000000   \n",
       "25%               158.000000                            27.000000   \n",
       "50%               380.000000                            66.000000   \n",
       "75%               656.000000                           147.000000   \n",
       "max              6065.000000                          7120.000000   \n",
       "\n",
       "         All Deaths  Pecent of deaths due to pneumonia or influenza  \\\n",
       "count  31902.000000                                    31902.000000   \n",
       "mean    3062.913297                                        7.190271   \n",
       "std     7726.290426                                        2.111171   \n",
       "min       31.000000                                        0.000000   \n",
       "25%      397.000000                                        5.849806   \n",
       "50%      943.000000                                        7.000000   \n",
       "75%     2054.000000                                        8.368201   \n",
       "max    67465.000000                                       21.505376   \n",
       "\n",
       "       pecent complete  \n",
       "count     31946.000000  \n",
       "mean        106.322803  \n",
       "std          11.025562  \n",
       "min           0.902239  \n",
       "25%          99.311707  \n",
       "50%         105.342583  \n",
       "75%         112.373050  \n",
       "max         169.253236  "
      ]
     },
     "execution_count": 9,
     "metadata": {},
     "output_type": "execute_result"
    }
   ],
   "source": [
    "deaths.describe()"
   ]
  },
  {
   "cell_type": "code",
   "execution_count": 8,
   "metadata": {},
   "outputs": [
    {
     "name": "stdout",
     "output_type": "stream",
     "text": [
      "The data set includes cases from 2009-10 to 2018-19\n"
     ]
    }
   ],
   "source": [
    "print('The data set includes cases from ' + str(deaths.season.min()) + ' to ' + str(deaths.season.max()))"
   ]
  },
  {
   "cell_type": "markdown",
   "metadata": {},
   "source": [
    "This tell me the time range of the dataset and can be used later on in the analysis."
   ]
  },
  {
   "cell_type": "markdown",
   "metadata": {},
   "source": [
    "Data Cleaning:"
   ]
  },
  {
   "cell_type": "markdown",
   "metadata": {},
   "source": [
    "When cleaning the data, I began by fixing the column names to lower case and getting rid of the spaces. I then dropped unnecessary columns and ones that had a majority of \"NaN\". I also renamed some columns to correct the spelling."
   ]
  },
  {
   "cell_type": "code",
   "execution_count": 10,
   "metadata": {},
   "outputs": [],
   "source": [
    "deaths.columns = deaths.columns.str.replace(' ', '_')"
   ]
  },
  {
   "cell_type": "code",
   "execution_count": 13,
   "metadata": {},
   "outputs": [],
   "source": [
    "deaths.columns = deaths.columns.str.lower()"
   ]
  },
  {
   "cell_type": "code",
   "execution_count": 11,
   "metadata": {},
   "outputs": [],
   "source": [
    "deaths.drop(['pecent_complete'], axis = 1, inplace = True)"
   ]
  },
  {
   "cell_type": "code",
   "execution_count": 12,
   "metadata": {},
   "outputs": [],
   "source": [
    "deaths.drop(['Region'], axis = 1, inplace = True)"
   ]
  },
  {
   "cell_type": "code",
   "execution_count": 14,
   "metadata": {},
   "outputs": [],
   "source": [
    "deaths.rename(columns = {'pecent_of_deaths_due_to_pneumonia_or_influenza':'percent_of_deaths_due_to_pneumonia_or_influenza'}, inplace = True)"
   ]
  },
  {
   "cell_type": "code",
   "execution_count": 15,
   "metadata": {},
   "outputs": [],
   "source": [
    "deaths.rename(columns = {'pecent_complete':'percent_complete'}, inplace = True)"
   ]
  },
  {
   "cell_type": "markdown",
   "metadata": {},
   "source": [
    "After he column names were fixed and unnecessary ones were dropped, I separated the data into a new data set where is was just National for the column \"geoid\". I did this because when \"geoid\" was equal to \"state\", the dataset had the deaths of influenza and pneumonia \"NaN\"."
   ]
  },
  {
   "cell_type": "code",
   "execution_count": 16,
   "metadata": {},
   "outputs": [],
   "source": [
    "deaths_national = deaths[deaths.geoid == 'National']"
   ]
  },
  {
   "cell_type": "markdown",
   "metadata": {},
   "source": [
    "As you can see below, now the majority of the columns are populated completely."
   ]
  },
  {
   "cell_type": "code",
   "execution_count": 17,
   "metadata": {},
   "outputs": [
    {
     "name": "stdout",
     "output_type": "stream",
     "text": [
      "<class 'pandas.core.frame.DataFrame'>\n",
      "Int64Index: 1936 entries, 0 to 1936\n",
      "Data columns (total 10 columns):\n",
      "geoid                                              1936 non-null object\n",
      "state                                              0 non-null object\n",
      "age                                                1936 non-null object\n",
      "season                                             1936 non-null object\n",
      "mmwr_year/week                                     1936 non-null int64\n",
      "deaths_from_influenza                              1936 non-null float64\n",
      "deaths_from_pneumonia                              1936 non-null float64\n",
      "deaths_from_pneumonia_and_influenza                1936 non-null float64\n",
      "all_deaths                                         1936 non-null float64\n",
      "percent_of_deaths_due_to_pneumonia_or_influenza    1936 non-null float64\n",
      "dtypes: float64(5), int64(1), object(4)\n",
      "memory usage: 166.4+ KB\n"
     ]
    }
   ],
   "source": [
    "deaths_national.info()"
   ]
  },
  {
   "cell_type": "code",
   "execution_count": 33,
   "metadata": {},
   "outputs": [
    {
     "data": {
      "text/html": [
       "<div>\n",
       "<style scoped>\n",
       "    .dataframe tbody tr th:only-of-type {\n",
       "        vertical-align: middle;\n",
       "    }\n",
       "\n",
       "    .dataframe tbody tr th {\n",
       "        vertical-align: top;\n",
       "    }\n",
       "\n",
       "    .dataframe thead th {\n",
       "        text-align: right;\n",
       "    }\n",
       "</style>\n",
       "<table border=\"1\" class=\"dataframe\">\n",
       "  <thead>\n",
       "    <tr style=\"text-align: right;\">\n",
       "      <th></th>\n",
       "      <th>geoid</th>\n",
       "      <th>age</th>\n",
       "      <th>season</th>\n",
       "      <th>mmwr_year/week</th>\n",
       "      <th>deaths_from_influenza</th>\n",
       "      <th>deaths_from_pneumonia</th>\n",
       "      <th>deaths_from_pneumonia_and_influenza</th>\n",
       "      <th>all_deaths</th>\n",
       "      <th>percent_of_deaths_due_to_pneumonia_or_influenza</th>\n",
       "    </tr>\n",
       "  </thead>\n",
       "  <tbody>\n",
       "    <tr>\n",
       "      <th>0</th>\n",
       "      <td>National</td>\n",
       "      <td>All</td>\n",
       "      <td>2009-10</td>\n",
       "      <td>200940</td>\n",
       "      <td>149.0</td>\n",
       "      <td>3484.0</td>\n",
       "      <td>3633.0</td>\n",
       "      <td>46412.0</td>\n",
       "      <td>7.827717</td>\n",
       "    </tr>\n",
       "    <tr>\n",
       "      <th>1</th>\n",
       "      <td>National</td>\n",
       "      <td>All</td>\n",
       "      <td>2009-10</td>\n",
       "      <td>200941</td>\n",
       "      <td>174.0</td>\n",
       "      <td>3703.0</td>\n",
       "      <td>3877.0</td>\n",
       "      <td>46453.0</td>\n",
       "      <td>8.346070</td>\n",
       "    </tr>\n",
       "    <tr>\n",
       "      <th>2</th>\n",
       "      <td>National</td>\n",
       "      <td>All</td>\n",
       "      <td>2009-10</td>\n",
       "      <td>200942</td>\n",
       "      <td>239.0</td>\n",
       "      <td>3841.0</td>\n",
       "      <td>4080.0</td>\n",
       "      <td>47451.0</td>\n",
       "      <td>8.598344</td>\n",
       "    </tr>\n",
       "    <tr>\n",
       "      <th>3</th>\n",
       "      <td>National</td>\n",
       "      <td>All</td>\n",
       "      <td>2009-10</td>\n",
       "      <td>200943</td>\n",
       "      <td>295.0</td>\n",
       "      <td>3762.0</td>\n",
       "      <td>4057.0</td>\n",
       "      <td>46432.0</td>\n",
       "      <td>8.737509</td>\n",
       "    </tr>\n",
       "    <tr>\n",
       "      <th>4</th>\n",
       "      <td>National</td>\n",
       "      <td>All</td>\n",
       "      <td>2009-10</td>\n",
       "      <td>200944</td>\n",
       "      <td>298.0</td>\n",
       "      <td>3858.0</td>\n",
       "      <td>4156.0</td>\n",
       "      <td>47372.0</td>\n",
       "      <td>8.773115</td>\n",
       "    </tr>\n",
       "  </tbody>\n",
       "</table>\n",
       "</div>"
      ],
      "text/plain": [
       "      geoid  age   season  mmwr_year/week  deaths_from_influenza  \\\n",
       "0  National  All  2009-10          200940                  149.0   \n",
       "1  National  All  2009-10          200941                  174.0   \n",
       "2  National  All  2009-10          200942                  239.0   \n",
       "3  National  All  2009-10          200943                  295.0   \n",
       "4  National  All  2009-10          200944                  298.0   \n",
       "\n",
       "   deaths_from_pneumonia  deaths_from_pneumonia_and_influenza  all_deaths  \\\n",
       "0                 3484.0                               3633.0     46412.0   \n",
       "1                 3703.0                               3877.0     46453.0   \n",
       "2                 3841.0                               4080.0     47451.0   \n",
       "3                 3762.0                               4057.0     46432.0   \n",
       "4                 3858.0                               4156.0     47372.0   \n",
       "\n",
       "   percent_of_deaths_due_to_pneumonia_or_influenza  \n",
       "0                                         7.827717  \n",
       "1                                         8.346070  \n",
       "2                                         8.598344  \n",
       "3                                         8.737509  \n",
       "4                                         8.773115  "
      ]
     },
     "execution_count": 33,
     "metadata": {},
     "output_type": "execute_result"
    }
   ],
   "source": [
    "deaths_national.head()"
   ]
  },
  {
   "cell_type": "markdown",
   "metadata": {},
   "source": [
    "Graphs and Analysis:"
   ]
  },
  {
   "cell_type": "code",
   "execution_count": 36,
   "metadata": {},
   "outputs": [
    {
     "name": "stdout",
     "output_type": "stream",
     "text": [
      "Mean influenza deaths =51.14049586776859\n"
     ]
    }
   ],
   "source": [
    "print(\"Mean influenza deaths =\" + str(deaths_national.deaths_from_influenza.mean()))"
   ]
  },
  {
   "cell_type": "code",
   "execution_count": 37,
   "metadata": {},
   "outputs": [
    {
     "name": "stdout",
     "output_type": "stream",
     "text": [
      "Median influenza deaths =6.0\n"
     ]
    }
   ],
   "source": [
    "print(\"Median influenza deaths =\" + str(deaths_national.deaths_from_influenza.median()))"
   ]
  },
  {
   "cell_type": "code",
   "execution_count": 39,
   "metadata": {},
   "outputs": [
    {
     "name": "stdout",
     "output_type": "stream",
     "text": [
      "Mean pneumonia deaths =1779.1095041322315\n"
     ]
    }
   ],
   "source": [
    "print(\"Mean pneumonia deaths =\" + str(deaths_national.deaths_from_pneumonia.mean()))"
   ]
  },
  {
   "cell_type": "code",
   "execution_count": 41,
   "metadata": {},
   "outputs": [
    {
     "name": "stdout",
     "output_type": "stream",
     "text": [
      "Median pneumonia deaths =1431.0\n"
     ]
    }
   ],
   "source": [
    "print(\"Median pneumonia deaths =\" + str(deaths_national.deaths_from_pneumonia.median()))"
   ]
  },
  {
   "cell_type": "code",
   "execution_count": 42,
   "metadata": {},
   "outputs": [
    {
     "name": "stderr",
     "output_type": "stream",
     "text": [
      "C:\\Users\\gosli\\Anaconda3\\lib\\site-packages\\scipy\\stats\\stats.py:1713: FutureWarning: Using a non-tuple sequence for multidimensional indexing is deprecated; use `arr[tuple(seq)]` instead of `arr[seq]`. In the future this will be interpreted as an array index, `arr[np.array(seq)]`, which will result either in an error or a different result.\n",
      "  return np.add.reduce(sorted[indexer] * weights, axis=axis) / sumval\n"
     ]
    },
    {
     "data": {
      "text/plain": [
       "Text(0.5, 1.0, 'Deaths of Influenza per Season')"
      ]
     },
     "execution_count": 42,
     "metadata": {},
     "output_type": "execute_result"
    },
    {
     "data": {
      "image/png": "[encoded data removed]",
      "text/plain": [
       "<Figure size 432x288 with 1 Axes>"
      ]
     },
     "metadata": {
      "needs_background": "light"
     },
     "output_type": "display_data"
    }
   ],
   "source": [
    "sns.barplot(x = 'deaths_from_influenza', y = 'season', data = deaths_national).set_title('Deaths of Influenza per Season')"
   ]
  },
  {
   "cell_type": "markdown",
   "metadata": {},
   "source": [
    "As you can see from the graph above, the deaths from influenza were the highest in 2017-18 and the lowest in 2011-12. I would be interested in understanding the reasons for this."
   ]
  },
  {
   "cell_type": "code",
   "execution_count": 43,
   "metadata": {},
   "outputs": [
    {
     "data": {
      "text/plain": [
       "Text(0.5, 1.0, 'Deaths of Pneumonia per Season')"
      ]
     },
     "execution_count": 43,
     "metadata": {},
     "output_type": "execute_result"
    },
    {
     "data": {
      "image/png": "[encoded data removed]",
      "text/plain": [
       "<Figure size 432x288 with 1 Axes>"
      ]
     },
     "metadata": {
      "needs_background": "light"
     },
     "output_type": "display_data"
    }
   ],
   "source": [
    "sns.barplot(x = 'deaths_from_pneumonia', y = 'season', data = deaths_national).set_title('Deaths of Pneumonia per Season')"
   ]
  },
  {
   "cell_type": "markdown",
   "metadata": {},
   "source": [
    "In the graph above, there is not much fluncuation in the deaths from pneumonia over the years, except in 2018-19 where this is lower. This could be because the season isnt over yet."
   ]
  },
  {
   "cell_type": "code",
   "execution_count": 51,
   "metadata": {},
   "outputs": [
    {
     "data": {
      "text/plain": [
       "<matplotlib.axes._subplots.AxesSubplot at 0x186b80ad240>"
      ]
     },
     "execution_count": 51,
     "metadata": {},
     "output_type": "execute_result"
    },
    {
     "data": {
      "image/png": "[encoded data removed]",
      "text/plain": [
       "<Figure size 432x288 with 1 Axes>"
      ]
     },
     "metadata": {
      "needs_background": "light"
     },
     "output_type": "display_data"
    }
   ],
   "source": [
    "ts = pd.Series(deaths_national['deaths_from_pneumonia'].values, index=deaths_national['season'])\n",
    "ts.plot()\n"
   ]
  },
  {
   "cell_type": "markdown",
   "metadata": {},
   "source": [
    "The time series above, shows the deaths from pneumonia over the years. It looks to me, that this pattern is quite seasonal."
   ]
  },
  {
   "cell_type": "code",
   "execution_count": 47,
   "metadata": {},
   "outputs": [
    {
     "data": {
      "text/plain": [
       "<seaborn.axisgrid.FacetGrid at 0x186b6b5ff28>"
      ]
     },
     "execution_count": 47,
     "metadata": {},
     "output_type": "execute_result"
    },
    {
     "data": {
      "image/png": "[encoded data removed]",
      "text/plain": [
       "<Figure size 360x360 with 1 Axes>"
      ]
     },
     "metadata": {
      "needs_background": "light"
     },
     "output_type": "display_data"
    }
   ],
   "source": [
    "sns.lmplot(x='deaths_from_influenza', y='percent_of_deaths_due_to_pneumonia_or_influenza', data=deaths_national,\n",
    "        fit_reg=False)"
   ]
  },
  {
   "cell_type": "markdown",
   "metadata": {},
   "source": [
    "In the scatterplot above, you can see that there is some relationship between inluenza and pneumonia. As deaths from pneumonia increases, so does the deaths from influenza."
   ]
  },
  {
   "cell_type": "code",
   "execution_count": 53,
   "metadata": {},
   "outputs": [
    {
     "data": {
      "text/plain": [
       "<seaborn.axisgrid.FacetGrid at 0x186b80014e0>"
      ]
     },
     "execution_count": 53,
     "metadata": {},
     "output_type": "execute_result"
    },
    {
     "data": {
      "image/png": "[encoded data removed]",
      "text/plain": [
       "<Figure size 360x360 with 1 Axes>"
      ]
     },
     "metadata": {
      "needs_background": "light"
     },
     "output_type": "display_data"
    }
   ],
   "source": [
    "sns.lmplot(x='season', y='percent_of_deaths_due_to_pneumonia_or_influenza', data=deaths_national,\n",
    "        fit_reg=False)\n"
   ]
  },
  {
   "cell_type": "code",
   "execution_count": 25,
   "metadata": {},
   "outputs": [
    {
     "data": {
      "text/plain": [
       "<matplotlib.axes._subplots.AxesSubplot at 0x186b3559f98>"
      ]
     },
     "execution_count": 25,
     "metadata": {},
     "output_type": "execute_result"
    },
    {
     "data": {
      "image/png": "[encoded data removed]",
      "text/plain": [
       "<Figure size 432x288 with 1 Axes>"
      ]
     },
     "metadata": {
      "needs_background": "light"
     },
     "output_type": "display_data"
    }
   ],
   "source": [
    "deaths_national['deaths_from_pneumonia'].plot.box()"
   ]
  },
  {
   "cell_type": "code",
   "execution_count": 48,
   "metadata": {},
   "outputs": [
    {
     "data": {
      "text/plain": [
       "<matplotlib.axes._subplots.AxesSubplot at 0x186b6be1908>"
      ]
     },
     "execution_count": 48,
     "metadata": {},
     "output_type": "execute_result"
    },
    {
     "data": {
      "image/png": "[encoded data removed]",
      "text/plain": [
       "<Figure size 432x288 with 1 Axes>"
      ]
     },
     "metadata": {
      "needs_background": "light"
     },
     "output_type": "display_data"
    }
   ],
   "source": [
    "deaths_national['deaths_from_influenza'].plot.box()"
   ]
  },
  {
   "cell_type": "markdown",
   "metadata": {},
   "source": [
    "The box plot for influenza shows how many outliers there are. This was also shown earlier in the analysis with the median deaths being 6 and the mean deaths being 51."
   ]
  },
  {
   "cell_type": "markdown",
   "metadata": {},
   "source": [
    "Conclusion:"
   ]
  },
  {
   "cell_type": "markdown",
   "metadata": {},
   "source": [
    "As we saw, there is a relationship between the deaths of influenza and the deaths of pneumonia across the nation. We also saw the seasonal spikes in deaths from the time series. If I kept exploring the data, I would want to look into both of these findings. I would also like to discover why deaths from influenza is significantly higher in 2017-18 than 2011-2012, and would like to figure out what caused this."
   ]
  }
 ],
 "metadata": {
  "kernelspec": {
   "display_name": "Python 3",
   "language": "python",
   "name": "python3"
  },
  "language_info": {
   "codemirror_mode": {
    "name": "ipython",
    "version": 3
   },
   "file_extension": ".py",
   "mimetype": "text/x-python",
   "name": "python",
   "nbconvert_exporter": "python",
   "pygments_lexer": "ipython3",
   "version": "3.7.1"
  }
 },
 "nbformat": 4,
 "nbformat_minor": 2
}
